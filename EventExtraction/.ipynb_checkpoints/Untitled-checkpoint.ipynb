{
 "cells": [
  {
   "cell_type": "code",
   "execution_count": 5,
   "metadata": {
    "collapsed": true,
    "deletable": true,
    "editable": true
   },
   "outputs": [],
   "source": [
    "import nltk\n",
    "import pandas as pd\n",
    "import os\n",
    "from pymongo import MongoClient"
   ]
  },
  {
   "cell_type": "code",
   "execution_count": 2,
   "metadata": {
    "collapsed": false,
    "deletable": true,
    "editable": true
   },
   "outputs": [],
   "source": [
    "files = os.listdir(\"articles1\")\n",
    "corpusdir = \"articles1/\"\n",
    "corpus = nltk.corpus.reader.plaintext.PlaintextCorpusReader(corpusdir, \".*\")"
   ]
  },
  {
   "cell_type": "code",
   "execution_count": 34,
   "metadata": {
    "collapsed": false
   },
   "outputs": [],
   "source": [
    "\n",
    "\n",
    "def process_text_corpus(data_directory,database=None):\n",
    "    corpus_dir = data_directory+\"/\"\n",
    "    \n",
    "    files = [corpus_dir+i for i in os.listdir(corpus_dir)]\n",
    "    \n",
    "    news=[]; words_tokens = []; tags = []; sentence_tokens=[]\n",
    "    \n",
    "    for i in files:\n",
    "        data = {}\n",
    "        with open(i, \"r\") as ff:\n",
    "            \n",
    "            thisNews = ff.read().strip()\n",
    "            \n",
    "            if database:\n",
    "                dd=thisNews.split(\"\\n\")\n",
    "                sens = dd[2].split(\".\")\n",
    "                client = MongoClient(host=\"localhost\", port=27017)\n",
    "                if len(dd) > 1:\n",
    "                    client[database]['articles'].insert_one({\"headline\":dd[0], \"date\":dd[1], \"article\":dd[2],\"sentences\":sens})\n",
    "                \n",
    "                \n",
    "            news.append(thisNews)\n",
    "            sentence_tokens.append(nltk.sent_tokenize(thisNews))\n",
    "            \n",
    "    for sentence in sentence_tokens:\n",
    "        sents, tagger=[],[]\n",
    "        for sent in  sentence:\n",
    "            sents.append(nltk.word_tokenize(sent))\n",
    "        tagger.append(nltk.pos_tag(sentence))\n",
    "                \n",
    "                \n",
    "        words_tokens.append(sents)\n",
    "        tags.append(tagger)\n",
    "        ff.close()\n",
    "    return {\"news\":news,\"words\":words_tokens,\"tags\":tags,\"sentence_tokens\":sentence_tokens}\n",
    "    "
   ]
  },
  {
   "cell_type": "code",
   "execution_count": 35,
   "metadata": {
    "collapsed": false,
    "deletable": true,
    "editable": true
   },
   "outputs": [
    {
     "name": "stderr",
     "output_type": "stream",
     "text": [
      "c:\\users\\enny\\appdata\\local\\programs\\python\\python36\\lib\\site-packages\\ipykernel\\__main__.py:20: DeprecationWarning: insert is deprecated. Use insert_one or insert_many instead.\n"
     ]
    }
   ],
   "source": [
    "articles_corpus=process_text_corpus(\"articles1\", database=\"vastdb\")"
   ]
  },
  {
   "cell_type": "code",
   "execution_count": 34,
   "metadata": {
    "collapsed": false,
    "deletable": true,
    "editable": true
   },
   "outputs": [],
   "source": [
    "\n",
    "for sentences in sentence_tokens:\n",
    "    sents = []; tagger=[]\n",
    "    for sentence in sentences:\n",
    "        sents.append(nltk.word_tokenize(sentence))\n",
    "        tagger.append(nltk.pos_tag(sentence))\n",
    "    "
   ]
  },
  {
   "cell_type": "code",
   "execution_count": null,
   "metadata": {
    "collapsed": true,
    "deletable": true,
    "editable": true
   },
   "outputs": [],
   "source": []
  }
 ],
 "metadata": {
  "kernelspec": {
   "display_name": "Python 3",
   "language": "python",
   "name": "python3"
  },
  "language_info": {
   "codemirror_mode": {
    "name": "ipython",
    "version": 3
   },
   "file_extension": ".py",
   "mimetype": "text/x-python",
   "name": "python",
   "nbconvert_exporter": "python",
   "pygments_lexer": "ipython3",
   "version": "3.6.0rc2"
  }
 },
 "nbformat": 4,
 "nbformat_minor": 2
}
